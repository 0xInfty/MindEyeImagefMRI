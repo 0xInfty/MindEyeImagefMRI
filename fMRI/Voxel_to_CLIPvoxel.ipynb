{
 "cells": [
  {
   "cell_type": "markdown",
   "id": "d93e001f-ae42-4afe-b347-c906c19f721e",
   "metadata": {},
   "source": [
    "<a href=\"https://colab.research.google.com/github/SauravMaheshkar/medical/blob/main/fMRI/Voxel_to_CLIPvoxel.ipynb\" target=\"_parent\"><img src=\"https://colab.research.google.com/assets/colab-badge.svg\" alt=\"Open In Colab\"/></a>"
   ]
  },
  {
   "cell_type": "markdown",
   "id": "9a68eed7",
   "metadata": {
    "tags": []
   },
   "source": [
    "# Contributors (in no particular order):\n",
    "**This list is constantly being updated, feel free to add your contributions**\n",
    "- Paul Scotti (@humanscotti / @pscotti) (https://github.com/PaulScotti): Project lead\n",
    "- Aidan Dempster (@veldrovive): Large parts of Voxel-to-CLIP code were modified his work here: https://github.com/Veldrovive/open_clip (in particular check out his networks for future use: https://github.com/Veldrovive/open_clip/blob/main/src/open_clip/model.py)\n",
    "- Jimmie Goode (@jimgoo) (https://github.com/jimgoo): fixed parts of voxel-to-clip involving l2 norming which greatly improved retrieval evaluations; improved epoch log saving; improved network simplicity without convolutions\n",
    "- Tanishq Abraham (@ilovescience / @iScienceLuvr) (https://github.com/tmabraham): Overall help with many aspects of project\n",
    "- Ethan Cohen (@ethan_cohen): Initial explorations of integrating voxels with Dalle2 diffusion prior \n",
    "- Nev (@nev): Various explorations including reconstructions via feedforward VQGAN and KNN-based LAION-5B prediction using CLIP embeddings\n",
    "- Nathalie Verlinde: Projected NSD images to StyleGAN-XL space\n",
    "- Saurav Maheshkar: helped with ReadMe, .gitignore, random seed\n",
    "- @Atom_101: Implemented soft loss for CLIP, found better CLIPvoxel performance with larger non-convolutional network, help with feeding CLIP-voxels through to SD"
   ]
  },
  {
   "cell_type": "markdown",
   "id": "26ca08a0-e0e9-4cf0-b95c-2c93376f2eb7",
   "metadata": {},
   "source": [
    "This notebook takes brain voxels and maps them to CLIP-space via contrastive learning."
   ]
  },
  {
   "cell_type": "markdown",
   "id": "b0f0f4f3",
   "metadata": {},
   "source": [
    "# Import packages & functions"
   ]
  },
  {
   "cell_type": "code",
   "execution_count": 1,
   "id": "a31fb86a",
   "metadata": {},
   "outputs": [
    {
     "name": "stderr",
     "output_type": "stream",
     "text": [
      "/home/jimgoo/miniconda3/envs/medical-v1/lib/python3.10/site-packages/tqdm/auto.py:22: TqdmWarning: IProgress not found. Please update jupyter and ipywidgets. See https://ipywidgets.readthedocs.io/en/stable/user_install.html\n",
      "  from .autonotebook import tqdm as notebook_tqdm\n"
     ]
    },
    {
     "name": "stdout",
     "output_type": "stream",
     "text": [
      "device: cuda\n"
     ]
    }
   ],
   "source": [
    "%load_ext autoreload\n",
    "%autoreload 2\n",
    "\n",
    "import os\n",
    "import sys\n",
    "import math\n",
    "import random\n",
    "import numpy as np\n",
    "from matplotlib import pyplot as plt\n",
    "import torch\n",
    "from torch import nn\n",
    "import torchvision\n",
    "from torchvision import transforms\n",
    "from tqdm import tqdm\n",
    "import PIL\n",
    "from datetime import datetime\n",
    "import h5py\n",
    "import webdataset as wds\n",
    "from info_nce import InfoNCE\n",
    "import clip\n",
    "import pandas as pd\n",
    "from collections import OrderedDict\n",
    "from IPython.display import clear_output\n",
    "\n",
    "from utils import * \n",
    "from models import * \n",
    "\n",
    "device = torch.device('cuda' if torch.cuda.is_available() else 'cpu')\n",
    "print(\"device:\",device)\n",
    "\n",
    "seed_everything(seed=0)"
   ]
  },
  {
   "cell_type": "code",
   "execution_count": 2,
   "id": "fcda4440-8341-42e6-9c40-9ffff9af3b4f",
   "metadata": {},
   "outputs": [
    {
     "name": "stdout",
     "output_type": "stream",
     "text": [
      "NOT using distributed parallel processing!\n"
     ]
    }
   ],
   "source": [
    "# setup multi-gpu Data Distributed Processing (ddp) if available\n",
    "# if not using ddp, using_ddp should be False and local_rank=0\n",
    "import torch.distributed as dist\n",
    "from torch.nn.parallel import DistributedDataParallel as DDP\n",
    "import ddp_config\n",
    "using_ddp,local_rank = ddp_config.ddp_test()\n",
    "if device=='cuda':\n",
    "    torch.cuda.set_device(local_rank)"
   ]
  },
  {
   "cell_type": "code",
   "execution_count": 3,
   "id": "373866c7-74c9-4691-bb93-afc15f87330f",
   "metadata": {},
   "outputs": [
    {
     "name": "stdout",
     "output_type": "stream",
     "text": [
      "full_training: True\n"
     ]
    }
   ],
   "source": [
    "# if full_training is True, use large batches and the entire training dataset \n",
    "full_training = True\n",
    "print('full_training:',full_training)"
   ]
  },
  {
   "cell_type": "markdown",
   "id": "7af15dc3",
   "metadata": {},
   "source": [
    "## Which pretrained model are you using for voxel alignment to embedding space? "
   ]
  },
  {
   "cell_type": "code",
   "execution_count": 4,
   "id": "e1388385-a32b-434a-8bde-5702c65db6f0",
   "metadata": {},
   "outputs": [
    {
     "name": "stdout",
     "output_type": "stream",
     "text": [
      "Using model: clip_image_vitL_augTrue_softTrue_clampFalse_normTrue_100ep_sumLoss\n",
      "Image augmentation: True\n"
     ]
    }
   ],
   "source": [
    "img_augmentation = True # do image augmentation?\n",
    "soft_clip = True # use loss_nce + loss_soft? (seems to improve fwd/bwd retrieval)\n",
    "clamp_embs = False # clamp embeddings to (-1.5, 1.5)\n",
    "norm_embs = True # L2 norm embeddings after clamping\n",
    "\n",
    "model_name = f'clip_image_vitL_aug{img_augmentation}_soft{soft_clip}_clamp{clamp_embs}_norm{norm_embs}_100ep_splitLoss' # CLIP ViT-L/14 image embeddings\n",
    "# model_name = 'clip_text_vitL' # CLIP ViT-L/14 text embeddings\n",
    "# model_name = 'clip_image_resnet' # CLIP basic ResNet image embeddings\n",
    "\n",
    "print(f\"Using model: {model_name}\")\n",
    "print(f\"Image augmentation: {img_augmentation}\")"
   ]
  },
  {
   "cell_type": "code",
   "execution_count": 5,
   "id": "c48c8fb4",
   "metadata": {},
   "outputs": [
    {
     "name": "stdout",
     "output_type": "stream",
     "text": [
      "ViT-L/14 cuda\n",
      "image_var = images\n"
     ]
    }
   ],
   "source": [
    "if \"resnet\" in model_name: \n",
    "    clip_extractor = Clipper(\"RN50\", clamp_embs=clamp_embs, norm_embs=norm_embs)\n",
    "elif \"vitL\" in model_name: \n",
    "    clip_extractor = Clipper(\"ViT-L/14\", clamp_embs=clamp_embs, norm_embs=norm_embs)\n",
    "elif \"vitB\" in model_name: \n",
    "    clip_extractor = Clipper(\"ViT-B/32\", clamp_embs=clamp_embs, norm_embs=norm_embs)\n",
    "    \n",
    "if \"text\" in model_name:     \n",
    "    image_var = 'trial' \n",
    "else:\n",
    "    image_var = 'images'\n",
    "print(\"image_var =\", image_var)\n",
    "\n",
    "# load COCO annotations curated in the same way as the mind_reader (Lin Sprague Singh) preprint\n",
    "f = h5py.File('/scratch/gpfs/KNORMAN/nsdgeneral_hdf5/COCO_73k_subj_indices.hdf5', 'r')\n",
    "subj01_order = f['subj01'][:]\n",
    "f.close()\n",
    "annots = np.load('/scratch/gpfs/KNORMAN/nsdgeneral_hdf5/COCO_73k_annots_curated.npy', allow_pickle=True)\n",
    "subj01_annots = annots[subj01_order]"
   ]
  },
  {
   "cell_type": "markdown",
   "id": "e8958b0a",
   "metadata": {},
   "source": [
    "# Load data"
   ]
  },
  {
   "cell_type": "markdown",
   "id": "94550efa",
   "metadata": {},
   "source": [
    "NSD webdatasets for subjects here:\n",
    "\n",
    "https://huggingface.co/datasets/pscotti/naturalscenesdataset/tree/main/webdataset"
   ]
  },
  {
   "cell_type": "code",
   "execution_count": 6,
   "id": "c1aa7fc1",
   "metadata": {},
   "outputs": [
    {
     "name": "stdout",
     "output_type": "stream",
     "text": [
      "batch_size 300\n",
      "num_devices 1\n",
      "num_workers 1\n",
      "global_batch_size 300\n",
      "num_worker_batches 83\n",
      "validation: num_worker_batches 2\n"
     ]
    }
   ],
   "source": [
    "batch_size = 300\n",
    "num_devices = torch.cuda.device_count()\n",
    "num_workers = num_devices\n",
    "train_dl, val_dl = get_dataloaders(batch_size, image_var, num_workers=num_workers)"
   ]
  },
  {
   "cell_type": "code",
   "execution_count": 7,
   "id": "397f33cb",
   "metadata": {},
   "outputs": [
    {
     "name": "stdout",
     "output_type": "stream",
     "text": [
      "idx 0\n",
      "voxel.shape torch.Size([300, 15724])\n",
      "img_input.shape torch.Size([300, 3, 256, 256])\n",
      "emb.shape torch.Size([300, 768])\n",
      "out_dim 768\n"
     ]
    }
   ],
   "source": [
    "# check that your data loaders are working\n",
    "for train_i, (voxel, img_input) in enumerate(train_dl):\n",
    "    print(\"idx\",train_i)\n",
    "    print(\"voxel.shape\", voxel.shape)\n",
    "    print(\"img_input.shape\", img_input.shape)\n",
    "    if \"text\" in model_name:\n",
    "        emb = clip_extractor.embed_curated_annotations(subj01_annots[img_input])\n",
    "    else:\n",
    "        emb = clip_extractor.embed_image(img_input)\n",
    "    print(\"emb.shape\",emb.shape)\n",
    "    out_dim = emb.shape[1]\n",
    "    print(\"out_dim\", out_dim)\n",
    "    break"
   ]
  },
  {
   "cell_type": "markdown",
   "id": "014dfa98",
   "metadata": {},
   "source": [
    "# Initialize model"
   ]
  },
  {
   "cell_type": "code",
   "execution_count": 8,
   "id": "f836db20",
   "metadata": {},
   "outputs": [
    {
     "name": "stdout",
     "output_type": "stream",
     "text": [
      "torch.Size([300, 768])\n"
     ]
    }
   ],
   "source": [
    "# from models.py\n",
    "brain_net = BrainNetwork(out_dim)\n",
    "\n",
    "if using_ddp:\n",
    "    brain_net0 = brain_net.to(local_rank)\n",
    "    brain_net = DDP(brain_net0, device_ids=[local_rank])\n",
    "else:\n",
    "    brain_net = brain_net.to(device)\n",
    "\n",
    "# test out that the neural network can run without error:\n",
    "with torch.cuda.amp.autocast():\n",
    "    out = brain_net(voxel.to(device))\n",
    "    if torch.any(torch.isnan(out)):\n",
    "        raise ValueError(\"NaN found...\")\n",
    "    print(out.shape)"
   ]
  },
  {
   "cell_type": "code",
   "execution_count": 9,
   "id": "39884e76-450d-48b9-9472-68ef28b2a74a",
   "metadata": {},
   "outputs": [
    {
     "name": "stdout",
     "output_type": "stream",
     "text": [
      "param counts:\n",
      "134,722,304 total\n",
      "134,722,304 trainable\n"
     ]
    }
   ],
   "source": [
    "count_params(brain_net)"
   ]
  },
  {
   "cell_type": "markdown",
   "id": "fce7b366-ad95-4314-883e-d4e86120c6ff",
   "metadata": {},
   "source": [
    "# Start model training"
   ]
  },
  {
   "cell_type": "code",
   "execution_count": 10,
   "id": "55e1350e",
   "metadata": {},
   "outputs": [],
   "source": [
    "epoch = 0\n",
    "num_epochs = 40\n",
    "initial_learning_rate = 1e-3 #3e-5\n",
    "optimizer = torch.optim.AdamW(brain_net.parameters(), lr=initial_learning_rate)\n",
    "# optimizer = torch.optim.SGD(brain_net.parameters(), lr=initial_learning_rate, momentum=0.95)\n",
    "\n",
    "lr_scheduler = torch.optim.lr_scheduler.OneCycleLR(optimizer, max_lr=3e-4, \n",
    "                                            total_steps=num_epochs*((24983//batch_size)//num_devices), \n",
    "                                            final_div_factor=1000,\n",
    "                                            last_epoch=-1, pct_start=2/num_epochs)\n",
    "# lr_scheduler = torch.optim.lr_scheduler.ReduceLROnPlateau(optimizer, min_lr=1e-8, patience=5) # use lr_scheduler.step(val_loss) \n",
    "\n",
    "# loss function\n",
    "nce = InfoNCE()\n",
    "#nce = InfoNCE(temperature=temperature)\n",
    "\n",
    "train_losses = []; val_losses = []\n",
    "train_fwd_topk = []; val_fwd_topk = []\n",
    "train_bwd_topk = []; val_bwd_topk = []\n",
    "lrs = []\n",
    "epoch_logs = []"
   ]
  },
  {
   "cell_type": "code",
   "execution_count": 11,
   "id": "6682e7ca-a3e7-47e2-a3f2-fe510712a1d3",
   "metadata": {},
   "outputs": [],
   "source": [
    "# # # Resume from checkpoint  \n",
    "# ckpt_path = f'checkpoints/{model_name}_subj01_epoch19.pth'\n",
    "# checkpoint = torch.load(ckpt_path, map_location=device)\n",
    "# print(f\"Plotting results from {ckpt_path}\")\n",
    "# train_losses=checkpoint['train_losses']\n",
    "# train_fwd_topk=checkpoint['train_fwd_topk']\n",
    "# train_bwd_topk=checkpoint['train_bwd_topk']\n",
    "# val_losses=checkpoint['val_losses']\n",
    "# val_fwd_topk=checkpoint['val_fwd_topk']\n",
    "# val_bwd_topk=checkpoint['val_bwd_topk']\n",
    "# lrs=checkpoint['lrs']\n",
    "# epoch=checkpoint['epoch']+1\n",
    "# num_epochs = 40\n",
    "# brain_net.load_state_dict(checkpoint['model_state_dict'])\n",
    "# brain_net.eval()"
   ]
  },
  {
   "cell_type": "code",
   "execution_count": 12,
   "id": "1d389b1e",
   "metadata": {
    "code_folding": []
   },
   "outputs": [
    {
     "name": "stderr",
     "output_type": "stream",
     "text": [
      " 46%|████████████████████████████████████████████▏                                                   | 46/100 [5:49:47<7:04:47, 471.99s/it, loss=7.42, lr=0.000169, topk_bwd=0.905, topk_fwd=0.891, val_loss=8.57, val_topk_bwd=0.368, val_topk_fwd=0.387]"
     ]
    },
    {
     "data": {
      "image/png": "[encoded data removed]",
      "text/plain": [
       "<Figure size 1656x216 with 7 Axes>"
      ]
     },
     "metadata": {
      "needs_background": "light"
     },
     "output_type": "display_data"
    },
    {
     "name": "stderr",
     "output_type": "stream",
     "text": [
      " 47%|█████████████████████████████████████████████                                                   | 47/100 [5:55:11<6:40:32, 453.45s/it, loss=7.42, lr=0.000169, topk_bwd=0.905, topk_fwd=0.891, val_loss=8.57, val_topk_bwd=0.368, val_topk_fwd=0.387]\n"
     ]
    },
    {
     "ename": "KeyboardInterrupt",
     "evalue": "",
     "output_type": "error",
     "traceback": [
      "\u001b[0;31m---------------------------------------------------------------------------\u001b[0m",
      "\u001b[0;31mKeyboardInterrupt\u001b[0m                         Traceback (most recent call last)",
      "Input \u001b[0;32mIn [12]\u001b[0m, in \u001b[0;36m<cell line: 16>\u001b[0;34m()\u001b[0m\n\u001b[1;32m     17\u001b[0m brain_net\u001b[38;5;241m.\u001b[39mtrain()\n\u001b[1;32m     18\u001b[0m \u001b[38;5;28;01mfor\u001b[39;00m train_i, (voxel, img_input) \u001b[38;5;129;01min\u001b[39;00m \u001b[38;5;28menumerate\u001b[39m(train_dl):\n\u001b[0;32m---> 19\u001b[0m     \u001b[43moptimizer\u001b[49m\u001b[38;5;241;43m.\u001b[39;49m\u001b[43mzero_grad\u001b[49m\u001b[43m(\u001b[49m\u001b[43m)\u001b[49m\n\u001b[1;32m     21\u001b[0m     voxel \u001b[38;5;241m=\u001b[39m voxel\u001b[38;5;241m.\u001b[39mto(device)\n\u001b[1;32m     23\u001b[0m     \u001b[38;5;28;01mwith\u001b[39;00m torch\u001b[38;5;241m.\u001b[39mcuda\u001b[38;5;241m.\u001b[39mamp\u001b[38;5;241m.\u001b[39mautocast():\n",
      "File \u001b[0;32m~/miniconda3/envs/medical-v1/lib/python3.10/site-packages/torch/optim/optimizer.py:246\u001b[0m, in \u001b[0;36mOptimizer.zero_grad\u001b[0;34m(self, set_to_none)\u001b[0m\n\u001b[1;32m    242\u001b[0m     param_groups \u001b[38;5;241m=\u001b[39m [\n\u001b[1;32m    243\u001b[0m         update_group(g, ng) \u001b[38;5;28;01mfor\u001b[39;00m g, ng \u001b[38;5;129;01min\u001b[39;00m \u001b[38;5;28mzip\u001b[39m(groups, saved_groups)]\n\u001b[1;32m    244\u001b[0m     \u001b[38;5;28mself\u001b[39m\u001b[38;5;241m.\u001b[39m__setstate__({\u001b[38;5;124m'\u001b[39m\u001b[38;5;124mstate\u001b[39m\u001b[38;5;124m'\u001b[39m: state, \u001b[38;5;124m'\u001b[39m\u001b[38;5;124mparam_groups\u001b[39m\u001b[38;5;124m'\u001b[39m: param_groups})\n\u001b[0;32m--> 246\u001b[0m \u001b[38;5;28;01mdef\u001b[39;00m \u001b[38;5;21mzero_grad\u001b[39m(\u001b[38;5;28mself\u001b[39m, set_to_none: \u001b[38;5;28mbool\u001b[39m \u001b[38;5;241m=\u001b[39m \u001b[38;5;28;01mFalse\u001b[39;00m):\n\u001b[1;32m    247\u001b[0m     \u001b[38;5;124mr\u001b[39m\u001b[38;5;124;03m\"\"\"Sets the gradients of all optimized :class:`torch.Tensor` s to zero.\u001b[39;00m\n\u001b[1;32m    248\u001b[0m \n\u001b[1;32m    249\u001b[0m \u001b[38;5;124;03m    Args:\u001b[39;00m\n\u001b[0;32m   (...)\u001b[0m\n\u001b[1;32m    259\u001b[0m \u001b[38;5;124;03m            the step altogether).\u001b[39;00m\n\u001b[1;32m    260\u001b[0m \u001b[38;5;124;03m    \"\"\"\u001b[39;00m\n\u001b[1;32m    261\u001b[0m     foreach \u001b[38;5;241m=\u001b[39m \u001b[38;5;28mself\u001b[39m\u001b[38;5;241m.\u001b[39mdefaults\u001b[38;5;241m.\u001b[39mget(\u001b[38;5;124m'\u001b[39m\u001b[38;5;124mforeach\u001b[39m\u001b[38;5;124m'\u001b[39m, \u001b[38;5;28;01mFalse\u001b[39;00m)\n",
      "\u001b[0;31mKeyboardInterrupt\u001b[0m: "
     ]
    }
   ],
   "source": [
    "print(datetime.now().strftime('%Y-%m-%d %H:%M:%S'))\n",
    "print(f\"num_epochs:{num_epochs} batch_size:{batch_size} lr:{initial_learning_rate}\")\n",
    "\n",
    "if full_training:\n",
    "    print(f\"Will be saving model checkpoints to checkpoints/{model_name}_subj01_epoch#.pth\")\n",
    "    if not os.path.exists(\"checkpoints\"):\n",
    "        os.makedirs(\"checkpoints\")\n",
    "else:\n",
    "    print(f\"Warning: not saving model checkpoints\")\n",
    "\n",
    "def check_loss(loss):\n",
    "    if loss.isnan().any():\n",
    "        raise ValueError('NaN loss')\n",
    "\n",
    "progress_bar = tqdm(range(epoch, num_epochs), ncols=250, disable=(local_rank!=0))\n",
    "for epoch in progress_bar:\n",
    "    brain_net.train()\n",
    "    for train_i, (voxel, img_input) in enumerate(train_dl):\n",
    "        optimizer.zero_grad()\n",
    "        \n",
    "        voxel = voxel.to(device)\n",
    "        \n",
    "        with torch.cuda.amp.autocast():\n",
    "            if image_var=='images': # using images\n",
    "                if img_augmentation:\n",
    "                    img_input = img_augment(img_input)\n",
    "                emb = clip_extractor.embed_image(img_input)\n",
    "            else: # using text captions of the images \n",
    "                emb = clip_extractor.embed_curated_annotations(subj01_annots[img_input])\n",
    "\n",
    "            emb_ = brain_net(voxel)\n",
    "            \n",
    "            # l2 norm before doing cosine similarity\n",
    "            emb_ = nn.functional.normalize(emb_,dim=-1) \n",
    "            \n",
    "            labels = torch.arange(len(emb)).to(device)\n",
    "            \n",
    "            if soft_clip:\n",
    "                if epoch<10:\n",
    "                    loss = nce(emb_.reshape(len(emb),-1),emb.reshape(len(emb),-1))\n",
    "                else:\n",
    "                    loss = soft_clip_loss(emb_.reshape(len(emb),-1), emb.reshape(len(emb),-1))\n",
    "                # loss = nce(emb_.reshape(len(emb),-1),emb.reshape(len(emb),-1)) + \\\n",
    "                #        soft_clip_loss(emb_.reshape(len(emb),-1), emb.reshape(len(emb),-1))\n",
    "            else:\n",
    "                loss = nce(emb_.reshape(len(emb),-1),emb.reshape(len(emb),-1))\n",
    "            \n",
    "            fwd_percent_correct = topk(batchwise_cosine_similarity(emb,emb_),labels,k=1)\n",
    "            bwd_percent_correct = topk(batchwise_cosine_similarity(emb_,emb),labels,k=1)\n",
    "            check_loss(loss)\n",
    "            \n",
    "        loss.backward()\n",
    "        optimizer.step()\n",
    "        \n",
    "        lr_scheduler.step() \n",
    "        lrs.append(optimizer.param_groups[0]['lr'])\n",
    "        \n",
    "        train_losses.append(loss.item())\n",
    "        train_fwd_topk.append(fwd_percent_correct.item())\n",
    "        train_bwd_topk.append(bwd_percent_correct.item())\n",
    "        \n",
    "    brain_net.eval()    \n",
    "    for val_i, (val_voxel, val_img_input) in enumerate(val_dl):\n",
    "        with torch.no_grad(): \n",
    "            val_voxel = val_voxel.to(device)\n",
    "            \n",
    "            with torch.cuda.amp.autocast():\n",
    "                if image_var=='images': # using images\n",
    "                    val_emb = clip_extractor.embed_image(val_img_input)\n",
    "                else: # using text captions of the images \n",
    "                    val_emb = clip_extractor.embed_curated_annotations(subj01_annots[val_img_input])\n",
    "\n",
    "                val_emb_ = brain_net(val_voxel)\n",
    "                \n",
    "                # l2 norm before doing cosine similarity\n",
    "                val_emb_ = nn.functional.normalize(val_emb_,dim=-1) \n",
    "            \n",
    "                labels = torch.arange(len(val_emb)).to(device)\n",
    "\n",
    "                if soft_clip:\n",
    "                    if epoch<10:\n",
    "                        val_loss = nce(val_emb_.reshape(len(val_emb),-1),val_emb.reshape(len(val_emb),-1))\n",
    "                    else:\n",
    "                        val_loss = soft_clip_loss(val_emb_.reshape(len(val_emb),-1), val_emb.reshape(len(val_emb),-1))\n",
    "                    # val_loss = nce(val_emb_.reshape(len(val_emb),-1),val_emb.reshape(len(val_emb),-1)) + \\\n",
    "                    #            soft_clip_loss(val_emb_.reshape(len(val_emb),-1), val_emb.reshape(len(val_emb),-1))\n",
    "                    \n",
    "                else:\n",
    "                    val_loss = nce(val_emb_.reshape(len(val_emb),-1),val_emb.reshape(len(val_emb),-1))\n",
    "\n",
    "                val_fwd_percent_correct = topk(batchwise_cosine_similarity(val_emb,val_emb_),labels,k=1)\n",
    "                val_bwd_percent_correct = topk(batchwise_cosine_similarity(val_emb_,val_emb),labels,k=1)\n",
    "                check_loss(val_loss)\n",
    "                \n",
    "            val_losses.append(val_loss.item())\n",
    "            val_fwd_topk.append(val_fwd_percent_correct.item())\n",
    "            val_bwd_topk.append(val_bwd_percent_correct.item())\n",
    "            \n",
    "    clear_output(wait=True)\n",
    "                \n",
    "    # Save model checkpoint every 5 epochs if full_training==True\n",
    "    if (epoch+1)%5 == 0 and full_training:\n",
    "        print(f'saving checkpoints/{model_name}_subj01_epoch{epoch}.pth...')\n",
    "        if (using_ddp==False) or (using_ddp==True and local_rank==0):\n",
    "            state_dict = brain_net.state_dict()\n",
    "            if using_ddp: # if using DDP, convert DDP state_dict to non-DDP before saving\n",
    "                for key in list(state_dict.keys()):\n",
    "                    if 'module.' in key:\n",
    "                        state_dict[key.replace('module.', '')] = state_dict[key]\n",
    "                        del state_dict[key]   \n",
    "            torch.save({\n",
    "                'epoch': epoch,\n",
    "                'model_state_dict': state_dict,\n",
    "                'optimizer_state_dict': optimizer.state_dict(),\n",
    "                'train_losses': train_losses,\n",
    "                'val_losses': val_losses,\n",
    "                'train_fwd_topk': train_fwd_topk,\n",
    "                'train_bwd_topk': train_bwd_topk,\n",
    "                'val_fwd_topk': val_fwd_topk,\n",
    "                'val_bwd_topk': val_bwd_topk,\n",
    "                'lrs': lrs,\n",
    "                }, f'checkpoints/{model_name}_subj01_epoch{epoch}.pth')\n",
    "        if using_ddp:\n",
    "            dist.barrier() # this tells the other gpus wait for the first gpu to finish saving the model\n",
    "            \n",
    "    # lr_scheduler.step(val_loss) \n",
    "    # lrs.append(optimizer.param_groups[0]['lr'])\n",
    "    \n",
    "    # logging the average results across batches for current epoch\n",
    "    logs = OrderedDict(\n",
    "        loss=np.mean(train_losses[-(train_i+1):]),\n",
    "        topk_fwd=np.mean(train_fwd_topk[-(train_i+1):]),\n",
    "        topk_bwd=np.mean(train_bwd_topk[-(train_i+1):]),\n",
    "        val_loss=np.mean(val_losses[-(val_i+1):]),\n",
    "        val_topk_fwd=np.mean(val_fwd_topk[-(val_i+1):]),\n",
    "        val_topk_bwd=np.mean(val_bwd_topk[-(val_i+1):]),\n",
    "        lr=lrs[-1],\n",
    "    )\n",
    "    progress_bar.set_postfix(**logs)\n",
    "    epoch_logs.append(logs)\n",
    "    if full_training:\n",
    "        pd.DataFrame(epoch_logs).to_csv(f'checkpoints/{model_name}_subj01.epoch-logs.csv')\n",
    "        \n",
    "    plot_brainnet(train_losses, train_fwd_topk, train_bwd_topk, val_losses, val_fwd_topk, val_bwd_topk, lrs)\n",
    "    \n",
    "print(datetime.now().strftime('%Y-%m-%d %H:%M:%S'))"
   ]
  },
  {
   "cell_type": "code",
   "execution_count": 13,
   "id": "3ca17c42-a9f1-43f6-9536-c62bf3a6bf82",
   "metadata": {},
   "outputs": [
    {
     "data": {
      "text/plain": [
       "'checkpoints/clip_image_vitL_augTrue_softTrue_clampFalse_normTrue_100ep_sumLoss_subj01_epoch47.pth'"
      ]
     },
     "execution_count": 13,
     "metadata": {},
     "output_type": "execute_result"
    }
   ],
   "source": [
    "f'checkpoints/{model_name}_subj01_epoch{epoch}.pth'"
   ]
  },
  {
   "cell_type": "code",
   "execution_count": 14,
   "id": "1a13de3f-088c-4e2f-9c58-b6d27a539220",
   "metadata": {},
   "outputs": [
    {
     "name": "stdout",
     "output_type": "stream",
     "text": [
      "3.0895283222198486 5.031619071960449\n"
     ]
    }
   ],
   "source": [
    "with torch.cuda.amp.autocast():\n",
    "    l1 = nce(val_emb_.reshape(len(val_emb),-1),val_emb.reshape(len(val_emb),-1))\n",
    "    l2 = soft_clip_loss(val_emb_.reshape(len(val_emb),-1), val_emb.reshape(len(val_emb),-1))\n",
    "print(l1.item(), l2.item())"
   ]
  },
  {
   "cell_type": "code",
   "execution_count": null,
   "id": "6886970f-d799-4303-9381-c6b8683314af",
   "metadata": {},
   "outputs": [],
   "source": [
    "plot_brainnet(train_losses, train_fwd_topk, train_bwd_topk, val_losses, val_fwd_topk, val_bwd_topk, lrs)"
   ]
  },
  {
   "cell_type": "code",
   "execution_count": null,
   "id": "b614265d-0a7a-44fc-ada8-b255e65a1564",
   "metadata": {},
   "outputs": [],
   "source": [
    "f'checkpoints/{model_name}_subj01_epoch{epoch}.pth'"
   ]
  },
  {
   "cell_type": "code",
   "execution_count": null,
   "id": "127c687f",
   "metadata": {},
   "outputs": [],
   "source": [
    "# # # # Loading checkpoint  \n",
    "# # ckpt_path = 'checkpoints/clip_image_vitL_augFalse_softTrue_subj01_epoch9.pth'\n",
    "# ckpt_path = 'checkpoints/clip_image_vitL_augTrue_softTrue_clipper2_subj01_epoch19.pth'\n",
    "\n",
    "# checkpoint = torch.load(ckpt_path, map_location=device)\n",
    "# print(f\"Plotting results from {ckpt_path}\")\n",
    "# train_losses=checkpoint['train_losses']\n",
    "# train_fwd_topk=checkpoint['train_fwd_topk']\n",
    "# train_bwd_topk=checkpoint['train_bwd_topk']\n",
    "# val_losses=checkpoint['val_losses']\n",
    "# val_fwd_topk=checkpoint['val_fwd_topk']\n",
    "# val_bwd_topk=checkpoint['val_bwd_topk']\n",
    "# lrs=checkpoint['lrs']\n",
    "\n",
    "# plot_brainnet(ckpt_path)"
   ]
  },
  {
   "cell_type": "markdown",
   "id": "d75db6a8",
   "metadata": {},
   "source": [
    "## Evaluation: Top-K Image Retrieval\n",
    "Restart kernel and run all above cells excluding \"Start model training\""
   ]
  },
  {
   "cell_type": "code",
   "execution_count": null,
   "id": "9ac17ea0-8c15-42e2-a480-66bbeac94ed4",
   "metadata": {},
   "outputs": [],
   "source": [
    "# url = \"/scratch/gpfs/KNORMAN/webdataset_nsd/webdataset_split/val/val_subj01_0.tar\"\n",
    "# num_worker_batches = 10\n",
    "# eval_batch_size = 300\n",
    "# val_data = wds.DataPipeline([wds.ResampledShards(url),\n",
    "#                     wds.tarfile_to_samples(),\n",
    "#                     wds.decode(\"torch\"),\n",
    "#                     wds.rename(images=\"jpg;png\", voxels=\"nsdgeneral.npy\", \n",
    "#                                 embs=\"sgxl_emb.npy\", trial=\"trial.npy\"),\n",
    "#                     wds.to_tuple(\"voxels\", \"images\", \"trial\"),\n",
    "#                     wds.batched(eval_batch_size, partial=True),\n",
    "#                 ]).with_epoch(num_worker_batches)\n",
    "# val_dl = wds.WebLoader(val_data, num_workers=num_workers,\n",
    "#                        batch_size=None, shuffle=False, persistent_workers=True)"
   ]
  },
  {
   "cell_type": "code",
   "execution_count": null,
   "id": "852657e8-8e35-486e-ac5b-a28b15afc9c6",
   "metadata": {},
   "outputs": [],
   "source": [
    "# # CLIP Image evaluation\n",
    "# ckpt_path = 'checkpoints/clip_image_vitL_augTrue_softTrue_subj01_epoch19.pth'\n",
    "# checkpoint = torch.load(ckpt_path, map_location=device)\n",
    "# brain_net.load_state_dict(checkpoint['model_state_dict'])\n",
    "# brain_net.eval()\n",
    "\n",
    "# for val_i, (voxel, img, trial) in enumerate(val_dl):\n",
    "#     with torch.no_grad():\n",
    "#         with torch.cuda.amp.autocast():\n",
    "#             voxel = voxel.to(device)\n",
    "\n",
    "#             if \"image\" in ckpt_path: # using images\n",
    "#                 emb0 = clip_extractor.embed_image(img)\n",
    "#             else:\n",
    "#                 emb0 = clip_extractor.embed_curated_annotations(subj01_annots[trial])\n",
    "\n",
    "#             emb_0 = nn.functional.normalize(brain_net(voxel),dim=-1)  # brain embeddings\n",
    "\n",
    "#             labels = torch.arange(len(emb0)).to(device)\n",
    "#             similarities0_bwd = batchwise_cosine_similarity(emb0,emb_0)  # clip, brain\n",
    "#             similarities0_fwd = batchwise_cosine_similarity(emb_0,emb0)  # brain, clip\n",
    "\n",
    "#             if val_i==0:\n",
    "#                 cnt=1\n",
    "#                 percent_correct_fwd = topk(similarities0_fwd, labels,k=1)\n",
    "#                 percent_correct_bwd = topk(similarities0_bwd, labels,k=1)\n",
    "#             else:\n",
    "#                 cnt+=1\n",
    "#                 percent_correct_fwd += topk(similarities0_fwd, labels,k=1)\n",
    "#                 percent_correct_bwd += topk(similarities0_bwd, labels,k=1)\n",
    "# percent_correct_fwd /= cnt\n",
    "# percent_correct_bwd /= cnt\n",
    "# print(\"fwd percent_correct\", percent_correct_fwd)\n",
    "# print(\"bwd percent_correct\", percent_correct_bwd)\n",
    "\n",
    "# # plot results from one batch\n",
    "# similarities0_fwd = np.array(similarities0_fwd.detach().cpu())\n",
    "# fig, ax = plt.subplots(nrows=4, ncols=6, figsize=(11,12))\n",
    "# for trial in range(4):\n",
    "#     ax[trial, 0].imshow(torch_to_Image(img[trial]))\n",
    "#     ax[trial, 0].set_title(\"original\\nimage\")\n",
    "#     ax[trial, 0].axis(\"off\")\n",
    "#     for attempt in range(5):\n",
    "#         which = np.flip(np.argsort(similarities0_fwd[trial]))[attempt]\n",
    "#         ax[trial, attempt+1].imshow(torch_to_Image(img[which]))\n",
    "#         ax[trial, attempt+1].set_title(f\"Top {attempt+1}\")\n",
    "#         ax[trial, attempt+1].axis(\"off\")\n",
    "# fig.tight_layout()\n",
    "# plt.show()"
   ]
  },
  {
   "cell_type": "code",
   "execution_count": null,
   "id": "4fbe6ffa-80fd-485f-98c7-0acd7a57d93d",
   "metadata": {},
   "outputs": [],
   "source": [
    "# # CLIP Text evaluation\n",
    "# ckpt_path = 'checkpoints/clip_text_vitB_conv_subj01_epoch25.pth'\n",
    "# checkpoint = torch.load(ckpt_path, map_location=device)\n",
    "# brain_net.load_state_dict(checkpoint['model_state_dict'])\n",
    "# brain_net.eval()\n",
    "\n",
    "# for val_i, (voxel, img, trial) in enumerate(val_dl):\n",
    "#     with torch.no_grad():\n",
    "#         with torch.cuda.amp.autocast():\n",
    "#             voxel = voxel.to(device)\n",
    "\n",
    "#             if \"image\" in ckpt_path: # using images\n",
    "#                 emb0 = clip_extractor.embed_image(img)\n",
    "#             else:\n",
    "#                 emb0 = clip_extractor.embed_curated_annotations(subj01_annots[trial])\n",
    "\n",
    "#             emb_0 = nn.functional.normalize(brain_net(voxel),dim=-1)  # brain embeddings\n",
    "\n",
    "#             labels = torch.arange(len(emb0)).to(device)\n",
    "#             similarities0_bwd = batchwise_cosine_similarity(emb0,emb_0)  # clip, brain\n",
    "#             similarities0_fwd = batchwise_cosine_similarity(emb_0,emb0)  # brain, clip\n",
    "\n",
    "#             if val_i==0:\n",
    "#                 cnt=1\n",
    "#                 percent_correct_fwd = topk(similarities0_fwd, labels,k=1)\n",
    "#                 percent_correct_bwd = topk(similarities0_bwd, labels,k=1)\n",
    "#             else:\n",
    "#                 cnt+=1\n",
    "#                 percent_correct_fwd += topk(similarities0_fwd, labels,k=1)\n",
    "#                 percent_correct_bwd += topk(similarities0_bwd, labels,k=1)\n",
    "# percent_correct_fwd /= cnt\n",
    "# percent_correct_bwd /= cnt\n",
    "# print(\"fwd percent_correct\", percent_correct_fwd)\n",
    "# print(\"bwd percent_correct\", percent_correct_bwd)\n",
    "\n",
    "# # plot results from one batch\n",
    "# similarities0_fwd = np.array(similarities0_fwd.detach().cpu())\n",
    "# fig, ax = plt.subplots(nrows=4, ncols=6, figsize=(11,12))\n",
    "# for trial in range(4):\n",
    "#     ax[trial, 0].imshow(torch_to_Image(img[trial]))\n",
    "#     ax[trial, 0].set_title(\"original\\nimage\")\n",
    "#     ax[trial, 0].axis(\"off\")\n",
    "#     for attempt in range(5):\n",
    "#         which = np.flip(np.argsort(similarities0_fwd[trial]))[attempt]\n",
    "#         ax[trial, attempt+1].imshow(torch_to_Image(img[which]))\n",
    "#         ax[trial, attempt+1].set_title(f\"Top {attempt+1}\")\n",
    "#         ax[trial, attempt+1].axis(\"off\")\n",
    "# fig.tight_layout()\n",
    "# plt.show()"
   ]
  },
  {
   "cell_type": "code",
   "execution_count": null,
   "id": "d634ae03-2695-411d-9ac6-7986ac84e02e",
   "metadata": {},
   "outputs": [],
   "source": [
    "# # CLIP Image+Text (Combined) evaluation\n",
    "\n",
    "# # image\n",
    "# ckpt_path = 'checkpoints/clip_image_vitL_augFalse_softTrue_subj01_epoch9.pth'\n",
    "# checkpoint = torch.load(ckpt_path, map_location=device)\n",
    "\n",
    "# brain_net.load_state_dict(checkpoint['model_state_dict'])\n",
    "# brain_net.eval()\n",
    "\n",
    "# # text\n",
    "# ckpt_path2 = 'checkpoints/clip_image_vitL_augTrue_softTrue_subj01_epoch14.pth'\n",
    "# checkpoint2 = torch.load(ckpt_path2, map_location=device)\n",
    "\n",
    "# brain_net2 = BrainNetwork(out_dim).to(device)\n",
    "# brain_net2.load_state_dict(checkpoint2['model_state_dict'])\n",
    "# brain_net2.eval()\n",
    "\n",
    "# for val_i, (voxel, img, trial) in enumerate(val_dl):\n",
    "#     with torch.no_grad():\n",
    "#         with torch.cuda.amp.autocast():\n",
    "#             voxel = voxel.to(device)\n",
    "            \n",
    "#             emb0 = clip_extractor.embed_image(img)\n",
    "#             emb1 = clip_extractor.embed_curated_annotations(subj01_annots[trial])\n",
    "            \n",
    "#             emb_0 = nn.functional.normalize(brain_net(voxel),dim=-1)  # brain embeddings\n",
    "#             emb_1 = nn.functional.normalize(brain_net2(voxel),dim=-1)  # brain embeddings\n",
    "            \n",
    "#             # combine the models, can try weighted average\n",
    "#             embC = emb0 #(emb0 + emb1)/2\n",
    "#             emb_C = (emb_0 + emb_1)/2 \n",
    "\n",
    "#             labels = torch.arange(len(emb0)).to(device)\n",
    "            \n",
    "#             similarities_combined_bwd = batchwise_cosine_similarity(embC,emb_C)  # clip, brain\n",
    "#             similarities_combined_fwd = batchwise_cosine_similarity(emb_C,embC)  # brain, clip\n",
    "\n",
    "#             if val_i==0:\n",
    "#                 cnt=1\n",
    "#                 percent_correct_fwd = topk(similarities_combined_fwd, labels,k=1)\n",
    "#                 percent_correct_bwd = topk(similarities_combined_bwd, labels,k=1)\n",
    "#             else:\n",
    "#                 cnt+=1\n",
    "#                 percent_correct_fwd += topk(similarities_combined_fwd, labels,k=1)\n",
    "#                 percent_correct_bwd += topk(similarities_combined_bwd, labels,k=1)\n",
    "# percent_correct_fwd /= cnt\n",
    "# percent_correct_bwd /= cnt\n",
    "# print(\"fwd percent_correct\", percent_correct_fwd)\n",
    "# print(\"bwd percent_correct\", percent_correct_bwd)\n",
    "\n",
    "# # plot results from one batch\n",
    "# similarities_combined_fwd = np.array(similarities_combined_fwd.detach().cpu())\n",
    "# fig, ax = plt.subplots(nrows=4, ncols=6, figsize=(11,12))\n",
    "# for trial in range(4):\n",
    "#     ax[trial, 0].imshow(torch_to_Image(img[trial]))\n",
    "#     ax[trial, 0].set_title(\"original\\nimage\")\n",
    "#     ax[trial, 0].axis(\"off\")\n",
    "#     for attempt in range(5):\n",
    "#         which = np.flip(np.argsort(similarities_combined_fwd[trial]))[attempt]\n",
    "#         ax[trial, attempt+1].imshow(torch_to_Image(img[which]))\n",
    "#         ax[trial, attempt+1].set_title(f\"Top {attempt+1}\")\n",
    "#         ax[trial, attempt+1].axis(\"off\")\n",
    "# fig.tight_layout()\n",
    "# plt.show()"
   ]
  },
  {
   "cell_type": "code",
   "execution_count": null,
   "id": "10ff715f-514e-4da7-b296-9c6dcb7d1466",
   "metadata": {},
   "outputs": [],
   "source": []
  }
 ],
 "metadata": {
  "kernelspec": {
   "display_name": "Python [conda env:medical-v1]",
   "language": "python",
   "name": "conda-env-medical-v1-py"
  },
  "language_info": {
   "codemirror_mode": {
    "name": "ipython",
    "version": 3
   },
   "file_extension": ".py",
   "mimetype": "text/x-python",
   "name": "python",
   "nbconvert_exporter": "python",
   "pygments_lexer": "ipython3",
   "version": "3.10.8"
  },
  "toc": {
   "base_numbering": 1,
   "nav_menu": {},
   "number_sections": true,
   "sideBar": true,
   "skip_h1_title": false,
   "title_cell": "Table of Contents",
   "title_sidebar": "Contents",
   "toc_cell": false,
   "toc_position": {
    "height": "calc(100% - 180px)",
    "left": "10px",
    "top": "150px",
    "width": "165px"
   },
   "toc_section_display": true,
   "toc_window_display": true
  },
  "toc-autonumbering": true,
  "vscode": {
   "interpreter": {
    "hash": "62aae01ef0cf7b6af841ab1c8ce59175c4332e693ab3d00bc32ceffb78a35376"
   }
  }
 },
 "nbformat": 4,
 "nbformat_minor": 5
}
