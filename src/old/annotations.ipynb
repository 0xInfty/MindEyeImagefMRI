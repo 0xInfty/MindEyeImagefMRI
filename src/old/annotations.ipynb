{
 "cells": [
  {
   "cell_type": "code",
   "execution_count": 5,
   "metadata": {},
   "outputs": [],
   "source": [
    "import h5py\n",
    "import numpy as np\n",
    "import os\n",
    "\n",
    " # load COCO annotations curated in the same way as the mind_reader (Lin Sprague Singh) preprint\n",
    "h5_dir = '/fsx/proj-medarc/fmri/natural-scenes-dataset/'\n",
    "\n",
    "# indices\n",
    "f = h5py.File(os.path.join(h5_dir, 'COCO_73k_subj_indices.hdf5'), 'r')\n",
    "subj01_order = f['subj01'][:]\n",
    "f.close()\n",
    "\n",
    "# annotations\n",
    "annots = np.load(os.path.join(h5_dir, 'COCO_73k_annots_curated.npy'), allow_pickle=True)\n",
    "subj01_annots = annots[subj01_order]"
   ]
  },
  {
   "cell_type": "code",
   "execution_count": 7,
   "metadata": {},
   "outputs": [
    {
     "data": {
      "text/plain": [
       "(27750,)"
      ]
     },
     "execution_count": 7,
     "metadata": {},
     "output_type": "execute_result"
    }
   ],
   "source": [
    "subj01_order.shape"
   ]
  },
  {
   "cell_type": "code",
   "execution_count": 6,
   "metadata": {},
   "outputs": [
    {
     "data": {
      "text/plain": [
       "(27750, 5)"
      ]
     },
     "execution_count": 6,
     "metadata": {},
     "output_type": "execute_result"
    }
   ],
   "source": [
    "subj01_annots.shape"
   ]
  },
  {
   "cell_type": "code",
   "execution_count": 4,
   "metadata": {},
   "outputs": [
    {
     "name": "stderr",
     "output_type": "stream",
     "text": [
      "/fsx/jimgoo/miniconda3/envs/medical-v1/lib/python3.10/site-packages/tqdm/auto.py:22: TqdmWarning: IProgress not found. Please update jupyter and ipywidgets. See https://ipywidgets.readthedocs.io/en/stable/user_install.html\n",
      "  from .autonotebook import tqdm as notebook_tqdm\n"
     ]
    }
   ],
   "source": [
    "import torch \n",
    "\n",
    "def text_tokenize(annots):\n",
    "    for i,b in enumerate(annots):\n",
    "        t = ''\n",
    "        while t == '':\n",
    "            rand = torch.randint(5, (1,1))[0][0]\n",
    "            t = b[0,rand]\n",
    "        if i==0:\n",
    "            txt = np.array(t)\n",
    "        else:\n",
    "            txt = np.vstack((txt,t))\n",
    "    txt = txt.flatten()\n",
    "    return txt"
   ]
  },
  {
   "cell_type": "code",
   "execution_count": 13,
   "metadata": {},
   "outputs": [],
   "source": [
    "image = subj01_annots[np.array([0,1,2]).reshape(-1, 1)]"
   ]
  },
  {
   "cell_type": "code",
   "execution_count": 14,
   "metadata": {},
   "outputs": [
    {
     "data": {
      "text/plain": [
       "(3, 1, 5)"
      ]
     },
     "execution_count": 14,
     "metadata": {},
     "output_type": "execute_result"
    }
   ],
   "source": [
    "image.shape"
   ]
  },
  {
   "cell_type": "code",
   "execution_count": 15,
   "metadata": {},
   "outputs": [
    {
     "data": {
      "text/plain": [
       "array([[['White cows eating grass under trees and the sky', '', '', '',\n",
       "         '']],\n",
       "\n",
       "       [['', 'A man standing on the beach beside surf boards', '',\n",
       "         'a man is flying a kite over a beach', '']],\n",
       "\n",
       "       [['A man on a surfboard, who is riding a wave.',\n",
       "         'A man riding a wave on top of a surfboard in the ocean.', '',\n",
       "         'A guy in a wet suite riding a surfboard on a wave.', '']]],\n",
       "      dtype='<U250')"
      ]
     },
     "execution_count": 15,
     "metadata": {},
     "output_type": "execute_result"
    }
   ],
   "source": [
    "image"
   ]
  },
  {
   "cell_type": "code",
   "execution_count": 17,
   "metadata": {},
   "outputs": [
    {
     "data": {
      "text/plain": [
       "array([['White cows eating grass under trees and the sky', '', '', '',\n",
       "        '']], dtype='<U250')"
      ]
     },
     "execution_count": 17,
     "metadata": {},
     "output_type": "execute_result"
    }
   ],
   "source": [
    "image[0]"
   ]
  },
  {
   "cell_type": "code",
   "execution_count": 18,
   "metadata": {},
   "outputs": [
    {
     "data": {
      "text/plain": [
       "array([['', 'A man standing on the beach beside surf boards', '',\n",
       "        'a man is flying a kite over a beach', '']], dtype='<U250')"
      ]
     },
     "execution_count": 18,
     "metadata": {},
     "output_type": "execute_result"
    }
   ],
   "source": [
    "image[1]"
   ]
  },
  {
   "cell_type": "code",
   "execution_count": 19,
   "metadata": {},
   "outputs": [
    {
     "data": {
      "text/plain": [
       "array([['A man on a surfboard, who is riding a wave.',\n",
       "        'A man riding a wave on top of a surfboard in the ocean.', '',\n",
       "        'A guy in a wet suite riding a surfboard on a wave.', '']],\n",
       "      dtype='<U250')"
      ]
     },
     "execution_count": 19,
     "metadata": {},
     "output_type": "execute_result"
    }
   ],
   "source": [
    "image[2]"
   ]
  },
  {
   "cell_type": "code",
   "execution_count": 22,
   "metadata": {},
   "outputs": [
    {
     "data": {
      "text/plain": [
       "array(['White cows eating grass under trees and the sky',\n",
       "       'a man is flying a kite over a beach',\n",
       "       'A guy in a wet suite riding a surfboard on a wave.'], dtype='<U50')"
      ]
     },
     "execution_count": 22,
     "metadata": {},
     "output_type": "execute_result"
    }
   ],
   "source": [
    "text_tokenize(image)"
   ]
  },
  {
   "cell_type": "code",
   "execution_count": 23,
   "metadata": {},
   "outputs": [],
   "source": [
    "%load_ext autoreload\n",
    "%autoreload 2"
   ]
  },
  {
   "cell_type": "code",
   "execution_count": 24,
   "metadata": {},
   "outputs": [],
   "source": [
    "import sys"
   ]
  },
  {
   "cell_type": "code",
   "execution_count": 25,
   "metadata": {},
   "outputs": [],
   "source": [
    "sys.path.append('../')"
   ]
  },
  {
   "cell_type": "code",
   "execution_count": 26,
   "metadata": {},
   "outputs": [],
   "source": [
    "import utils"
   ]
  },
  {
   "cell_type": "code",
   "execution_count": 29,
   "metadata": {},
   "outputs": [
    {
     "data": {
      "text/plain": [
       "array(['White cows eating grass under trees and the sky',\n",
       "       'A man standing on the beach beside surf boards',\n",
       "       'A man on a surfboard, who is riding a wave.'], dtype='<U47')"
      ]
     },
     "execution_count": 29,
     "metadata": {},
     "output_type": "execute_result"
    }
   ],
   "source": [
    "utils.select_annotations(image, random=False)"
   ]
  },
  {
   "cell_type": "code",
   "execution_count": 28,
   "metadata": {},
   "outputs": [
    {
     "data": {
      "text/plain": [
       "array(['White cows eating grass under trees and the sky',\n",
       "       'a man is flying a kite over a beach',\n",
       "       'A guy in a wet suite riding a surfboard on a wave.'], dtype='<U50')"
      ]
     },
     "execution_count": 28,
     "metadata": {},
     "output_type": "execute_result"
    }
   ],
   "source": [
    "utils.select_annotations(image, random=True)"
   ]
  },
  {
   "cell_type": "code",
   "execution_count": null,
   "metadata": {},
   "outputs": [],
   "source": []
  }
 ],
 "metadata": {
  "kernelspec": {
   "display_name": "medical-v1",
   "language": "python",
   "name": "python3"
  },
  "language_info": {
   "codemirror_mode": {
    "name": "ipython",
    "version": 3
   },
   "file_extension": ".py",
   "mimetype": "text/x-python",
   "name": "python",
   "nbconvert_exporter": "python",
   "pygments_lexer": "ipython3",
   "version": "3.10.8"
  },
  "orig_nbformat": 4,
  "vscode": {
   "interpreter": {
    "hash": "b8b1c178e7c9613dc3841e5436f5ddbb220759751f90c28c5916f8948d82ea25"
   }
  }
 },
 "nbformat": 4,
 "nbformat_minor": 2
}
